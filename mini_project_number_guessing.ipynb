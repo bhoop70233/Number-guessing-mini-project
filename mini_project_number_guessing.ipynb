{
 "cells": [
  {
   "cell_type": "code",
   "execution_count": 1,
   "id": "27f89bba",
   "metadata": {},
   "outputs": [],
   "source": [
    "import random"
   ]
  },
  {
   "cell_type": "code",
   "execution_count": 4,
   "id": "74890f00",
   "metadata": {},
   "outputs": [],
   "source": [
    "#define range and max_attempts\n",
    "lower_bound=1\n",
    "upper_bound=1000\n",
    "max_attempts=10\n"
   ]
  },
  {
   "cell_type": "code",
   "execution_count": 5,
   "id": "3e83da42",
   "metadata": {},
   "outputs": [],
   "source": [
    "#generate the secret number\n",
    "secret_number=random.randint(lower_bound,upper_bound)\n",
    "\n"
   ]
  },
  {
   "cell_type": "code",
   "execution_count": 10,
   "id": "6bf6a0e6",
   "metadata": {},
   "outputs": [],
   "source": [
    "#let's the use 's guess\n",
    "def get_guess():\n",
    "    while True:\n",
    "        try:\n",
    "            guess=int(input(f'Guess  a number between {lower_bound} and {upper_bound}'))\n",
    "            if lower_bound<=guess<=upper_bound:\n",
    "                            return guess\n",
    "            else:\n",
    "                 print(\"Invalid input .Please enter a number within the specified range.\")   \n",
    "        except ValueError:\n",
    "            print(\"Invalid input .Please enter a valid number\")\n",
    "    "
   ]
  },
  {
   "cell_type": "code",
   "execution_count": 11,
   "id": "4189ad9f",
   "metadata": {},
   "outputs": [],
   "source": [
    "#validate guess\n",
    "def check_guess(guess,secret_number):\n",
    "    if guess==secret_number:\n",
    "        return \"Correct\"\n",
    "    elif guess<secret_number:\n",
    "        return \"Too low\"\n",
    "    else:\n",
    "        return \"Too high\""
   ]
  },
  {
   "cell_type": "code",
   "execution_count": 12,
   "id": "69c53600",
   "metadata": {},
   "outputs": [
    {
     "name": "stdout",
     "output_type": "stream",
     "text": [
      "Welcome to the Number Guessing Game!\n",
      "Guess  a number between 1 and 100067\n",
      "Too low.Try again!\n",
      "Guess  a number between 1 and 10008\n",
      "Too low.Try again!\n",
      "Guess  a number between 1 and 100089\n",
      "Too low.Try again!\n",
      "Guess  a number between 1 and 1000677\n",
      "Too high.Try again!\n",
      "Guess  a number between 1 and 100090\n",
      "Too low.Try again!\n",
      "Guess  a number between 1 and 1000900\n",
      "Too high.Try again!\n",
      "Guess  a number between 1 and 1000800\n",
      "Too high.Try again!\n",
      "Guess  a number between 1 and 1000970\n",
      "Too high.Try again!\n",
      "Guess  a number between 1 and 1000789\n",
      "Too high.Try again!\n",
      "Guess  a number between 1 and 1000098\n",
      "Too low.Try again!\n",
      "Sorry,you ran out of attempts! The secret number is 262.\n"
     ]
    }
   ],
   "source": [
    "#track the number of attempts ,detect if the game is over\n",
    "def play_game():\n",
    "    attempts=0\n",
    "    won=False\n",
    "    \n",
    "    while attempts<max_attempts:\n",
    "        attempts+=1\n",
    "        guess=get_guess()\n",
    "        result=check_guess(guess,secret_number)\n",
    "        \n",
    "        if result ==\"Correct\":\n",
    "            print(f\"Congratulations! You guessed the secret number {secret_number} in {attempts} attempts.\")\n",
    "            won=True\n",
    "            break\n",
    "        else:\n",
    "            print(f\"{result}.Try again!\")\n",
    "            \n",
    "    if not won:\n",
    "        print(f\"Sorry,you ran out of attempts! The secret number is {secret_number}.\")\n",
    "if __name__==\"__main__\":\n",
    "    print(\"Welcome to the Number Guessing Game!\")\n",
    "    play_game()"
   ]
  },
  {
   "cell_type": "code",
   "execution_count": null,
   "id": "f4cc2c03",
   "metadata": {},
   "outputs": [],
   "source": []
  }
 ],
 "metadata": {
  "kernelspec": {
   "display_name": "Python 3 (ipykernel)",
   "language": "python",
   "name": "python3"
  },
  "language_info": {
   "codemirror_mode": {
    "name": "ipython",
    "version": 3
   },
   "file_extension": ".py",
   "mimetype": "text/x-python",
   "name": "python",
   "nbconvert_exporter": "python",
   "pygments_lexer": "ipython3",
   "version": "3.11.4"
  }
 },
 "nbformat": 4,
 "nbformat_minor": 5
}
